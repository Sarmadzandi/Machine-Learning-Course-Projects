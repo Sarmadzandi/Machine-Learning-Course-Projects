{
  "cells": [
    {
      "cell_type": "markdown",
      "id": "63339170",
      "metadata": {
        "id": "63339170"
      },
      "source": [
        "# Congestive heart failure detection using random forest classifier\n",
        "#                             * University of Tehran *\n",
        "\n",
        "# Author: \"Sarmad Zandi\"\n",
        "# S.Number : 810199181  \n",
        "# Date     : 2022-01-27\n",
        "# Course   : Machine Learning\n",
        "# ======================="
      ]
    },
    {
      "cell_type": "markdown",
      "id": "e74101f2",
      "metadata": {
        "id": "e74101f2"
      },
      "source": [
        "# =========== PTB dataset ==========="
      ]
    },
    {
      "cell_type": "code",
      "execution_count": null,
      "id": "8a3c8885",
      "metadata": {
        "id": "8a3c8885",
        "outputId": "2592d178-2b3a-4c7d-8c72-7405694acc58"
      },
      "outputs": [
        {
          "name": "stdout",
          "output_type": "stream",
          "text": [
            "First record is : patient115\n",
            "===================================================================\n",
            "Second record is : patient118\n",
            "===================================================================\n",
            "Third record is : patient123\n",
            "       ECG1      ECG2  Heart_disease\n",
            "0 -1.490536  2.133266              1\n",
            "1  4.879006 -0.489726              1\n",
            "2 -3.388470 -1.643540              1\n"
          ]
        }
      ],
      "source": [
        "#Required libaries\n",
        "from sklearn.model_selection import train_test_split\n",
        "from sklearn.datasets import make_classification\n",
        "from sklearn.svm import SVC\n",
        "from sklearn.tree import DecisionTreeClassifier\n",
        "from sklearn.neural_network import MLPClassifier\n",
        "from sklearn.ensemble import RandomForestClassifier\n",
        "from sklearn.neighbors import KNeighborsClassifier as knn\n",
        "from sklearn import preprocessing\n",
        "from sklearn import metrics\n",
        "from sklearn.metrics import accuracy_score, confusion_matrix as cf ,precision_recall_fscore_support as f1\n",
        "import math\n",
        "import numpy as np\n",
        "import pandas as pd\n",
        "%matplotlib inline\n",
        "import csv\n",
        "import pandas as pan\n",
        "import numpy as np\n",
        "#===========================================================================\n",
        "# PTB dataset\n",
        "# To Find 3 records\n",
        "data = pan.read_csv(\"meta.csv\")\n",
        "data2 = data.loc[data[\"age\"]==74]\n",
        "data3 = data2.loc[data2[\"sex\"]==\"female\"]\n",
        "rec_1 = data3.loc[data2[\"Reason_for_admission\"]==\"Heart failure (NYHA 2)\"]\n",
        "record_1_PTB = rec_1.index[0]\n",
        "\n",
        "data2 = data.loc[data[\"age\"]==70]\n",
        "data3 = data2.loc[data2[\"sex\"]==\"male\"]\n",
        "rec_2 = data3.loc[data2[\"Reason_for_admission\"]==\"Heart failure (NYHA 3)\"]\n",
        "record_2_PTB = rec_2.index[0]\n",
        "\n",
        "data2 = data.loc[data[\"age\"]==61]\n",
        "data3 = data2.loc[data2[\"sex\"]==\"female\"]\n",
        "rec_3 = data3.loc[data2[\"Reason_for_admission\"]==\"Heart failure (NYHA 4)\"]\n",
        "record_3_PTB = rec_3.index[0]\n",
        "\n",
        "dataset = [rec_1,rec_2,rec_3]\n",
        "PTB_dataset = pan.concat(dataset)\n",
        "print(\"First record is :\",PTB_dataset.iloc[0][0])\n",
        "print(\"===================================================================\")\n",
        "print(\"Second record is :\",PTB_dataset.iloc[1][0])\n",
        "print(\"===================================================================\")\n",
        "print(\"Third record is :\",PTB_dataset.iloc[2][0])\n",
        "#===========================================================================\n",
        "# =========== PTB database ===========\n",
        "p1 = pan.read_csv(\"PTB/patient115.csv\")\n",
        "p2 = pan.read_csv(\"PTB/patient118.csv\")\n",
        "p3 = pan.read_csv(\"PTB/patient123.csv\")\n",
        "# add label\n",
        "p1[\"Heart_disease\"] = 1\n",
        "p2[\"Heart_disease\"] = 1\n",
        "p3[\"Heart_disease\"] = 1\n",
        "ress = [p1,p2,p3]\n",
        "PTB_datasett = pan.concat(ress)\n",
        "col = list(PTB_datasett.columns)\n",
        "\n",
        "p1 = p1.to_numpy()\n",
        "p2 = p2.to_numpy()\n",
        "p3 = p3.to_numpy()\n",
        "\n",
        "dataXX = np.concatenate((p1, p2, p3))\n",
        "PTB_datasettt = pd.DataFrame(dataXX,columns=col)\n",
        "\n",
        "f = list(PTB_datasettt.columns)\n",
        "x = PTB_datasettt.loc[:, f].values\n",
        "PTB_datasettt[\"Heart_disease\"] = 1\n",
        "\n",
        "#Standardize the Data\n",
        "from sklearn.preprocessing import StandardScaler\n",
        "y = PTB_datasettt.loc[:,['Heart_disease']].values\n",
        "x = StandardScaler().fit_transform(x)\n",
        "\n",
        "#PCA Projection to 2D\n",
        "from sklearn.decomposition import PCA\n",
        "pca = PCA(n_components=2)\n",
        "com = pca.fit_transform(x)\n",
        "dff = pan.DataFrame(data = com, columns = [\"ECG1\", \"ECG2\"])\n",
        "PTB_datasetttt = pan.concat([dff, PTB_datasettt[['Heart_disease']]], axis = 1)\n",
        "print(PTB_datasetttt)"
      ]
    },
    {
      "cell_type": "markdown",
      "id": "52ee52f2",
      "metadata": {
        "id": "52ee52f2"
      },
      "source": [
        "# =========== BIDMC database ==========="
      ]
    },
    {
      "cell_type": "code",
      "execution_count": null,
      "id": "a426e0b4",
      "metadata": {
        "id": "a426e0b4",
        "outputId": "1a980fe8-5ec2-4e64-c414-49830501e506"
      },
      "outputs": [
        {
          "name": "stdout",
          "output_type": "stream",
          "text": [
            "    'ECG1'  'ECG2'  Heart_disease\n",
            "0   -0.470   0.715              1\n",
            "1   -0.395  -0.160              1\n",
            "2   -0.320  -0.305              1\n",
            "3   -0.480  -0.260              1\n",
            "4   -0.555   0.000              1\n",
            "5   -0.300  -0.445              1\n",
            "6   -0.515  -0.375              1\n",
            "7   -0.370  -0.110              1\n",
            "8    0.340   0.245              1\n",
            "9   -0.415  -0.180              1\n",
            "10  -0.640  -0.435              1\n",
            "11  -0.265   0.075              1\n",
            "12  -0.640  -0.195              1\n",
            "13  -0.395  -0.045              1\n",
            "14   0.010  -0.200              1\n"
          ]
        }
      ],
      "source": [
        "# =========== BIDMC database ===========\n",
        "datt = []\n",
        "for i in range(1,16):\n",
        "    locals()[\"datt\"+str(i)] = pan.read_csv(f\"bidmc/record{i}.csv\")\n",
        "    datt.append(locals()[\"datt\"+str(i)])\n",
        "BIDMC_dataset = pan.concat(datt)\n",
        "col = list(BIDMC_dataset.columns)\n",
        "\n",
        "for j in range(1,16):\n",
        "    locals()[\"datt\"+str(j)] = locals()[\"datt\"+str(j)].to_numpy()\n",
        "\n",
        "dataXX = np.concatenate((datt1,datt2,datt3,datt4,datt5,datt6,datt7,datt8,datt9,datt10,datt11,datt12,datt13,datt14,datt15))\n",
        "BIDMC_datasett = pd.DataFrame(dataXX,columns=col)\n",
        "\n",
        "BIDMC_datasett[\"Heart_disease\"] = 1\n",
        "BIDMC_datasett = BIDMC_datasett.iloc[:,1:]\n",
        "print(BIDMC_datasett)"
      ]
    },
    {
      "cell_type": "markdown",
      "id": "f5e99852",
      "metadata": {
        "id": "f5e99852"
      },
      "source": [
        "# =========== MIT database ==========="
      ]
    },
    {
      "cell_type": "code",
      "execution_count": null,
      "id": "050c12fd",
      "metadata": {
        "id": "050c12fd",
        "outputId": "51fc4f3d-ac77-4eed-d590-c8c8b7b145b8"
      },
      "outputs": [
        {
          "name": "stdout",
          "output_type": "stream",
          "text": [
            "        ECG1      ECG2  Heart_disease\n",
            "0  -0.792224  0.397294              0\n",
            "1  -0.986741 -0.534655              0\n",
            "2   0.711975  1.990878              0\n",
            "3  -0.510736 -0.729044              0\n",
            "4   1.984567 -0.624809              0\n",
            "5   2.106341  0.033279              0\n",
            "6   0.873633  0.789404              0\n",
            "7  -0.248048 -0.645127              0\n",
            "8   1.167768 -1.151104              0\n",
            "9  -0.704889  0.439936              0\n",
            "10 -1.164487 -0.421898              0\n",
            "11 -1.066427  0.346555              0\n",
            "12 -1.370732  0.109290              0\n"
          ]
        }
      ],
      "source": [
        "# =========== MIT database ===========\n",
        "datt = []\n",
        "for i in [100,106,108,113,119,121,205,212,223,228,232,233,234]:\n",
        "    locals()[\"daat\"+str(i)] = pan.read_csv(f\"mit/record{i}.csv\")\n",
        "    datt.append(locals()[\"daat\"+str(i)])\n",
        "MIT_dataset = pan.concat(datt)\n",
        "col = list(MIT_dataset.iloc[:,:-1].columns)\n",
        "for j in [100,106,108,113,119,121,205,212,223,228,232,233,234]:\n",
        "    locals()[\"daat\"+str(j)] = locals()[\"daat\"+str(j)].to_numpy()\n",
        "\n",
        "dataXX = np.concatenate((daat100,daat106,daat108,daat113,daat119,daat121,daat205,daat212,daat223,daat228,daat232,daat233,daat234))\n",
        "MIT_datasett = pd.DataFrame(dataXX,columns=col)\n",
        "MIT_datasett[\"Heart_disease\"] = 0\n",
        "\n",
        "f = list(MIT_datasett.columns)\n",
        "x = MIT_datasett.loc[:, f].values\n",
        "MIT_datasett[\"Heart_disease\"] = 0\n",
        "\n",
        "#Standardize the Data\n",
        "from sklearn.preprocessing import StandardScaler\n",
        "y = MIT_datasett.loc[:,['Heart_disease']].values\n",
        "x = StandardScaler().fit_transform(x)\n",
        "\n",
        "#PCA Projection to 2D\n",
        "from sklearn.decomposition import PCA\n",
        "pca = PCA(n_components=2)\n",
        "com = pca.fit_transform(x)\n",
        "dff = pan.DataFrame(data = com, columns = [\"ECG1\", \"ECG2\"])\n",
        "MIT_datasettt = pan.concat([dff, MIT_datasett[['Heart_disease']]], axis = 1)\n",
        "print(MIT_datasettt)"
      ]
    },
    {
      "cell_type": "markdown",
      "id": "a7725443",
      "metadata": {
        "id": "a7725443"
      },
      "source": [
        "# Final dataset (All together)"
      ]
    },
    {
      "cell_type": "code",
      "execution_count": null,
      "id": "97adee17",
      "metadata": {
        "id": "97adee17",
        "outputId": "176cc141-b69b-4c15-9036-bc05af947c6c"
      },
      "outputs": [
        {
          "name": "stdout",
          "output_type": "stream",
          "text": [
            "        ECG1      ECG2  Heart_disease\n",
            "0  -1.490536  2.133266            1.0\n",
            "1   4.879006 -0.489726            1.0\n",
            "2  -3.388470 -1.643540            1.0\n",
            "3  -0.470000  0.715000            1.0\n",
            "4  -0.395000 -0.160000            1.0\n",
            "5  -0.320000 -0.305000            1.0\n",
            "6  -0.480000 -0.260000            1.0\n",
            "7  -0.555000  0.000000            1.0\n",
            "8  -0.300000 -0.445000            1.0\n",
            "9  -0.515000 -0.375000            1.0\n",
            "10 -0.370000 -0.110000            1.0\n",
            "11  0.340000  0.245000            1.0\n",
            "12 -0.415000 -0.180000            1.0\n",
            "13 -0.640000 -0.435000            1.0\n",
            "14 -0.265000  0.075000            1.0\n",
            "15 -0.640000 -0.195000            1.0\n",
            "16 -0.395000 -0.045000            1.0\n",
            "17  0.010000 -0.200000            1.0\n",
            "18 -0.792224  0.397294            0.0\n",
            "19 -0.986741 -0.534655            0.0\n",
            "20  0.711975  1.990878            0.0\n",
            "21 -0.510736 -0.729044            0.0\n",
            "22  1.984567 -0.624809            0.0\n",
            "23  2.106341  0.033279            0.0\n",
            "24  0.873633  0.789404            0.0\n",
            "25 -0.248048 -0.645127            0.0\n",
            "26  1.167768 -1.151104            0.0\n",
            "27 -0.704889  0.439936            0.0\n",
            "28 -1.164487 -0.421898            0.0\n",
            "29 -1.066427  0.346555            0.0\n",
            "30 -1.370732  0.109290            0.0\n"
          ]
        }
      ],
      "source": [
        "# Final dataset (All together)\n",
        "conc = [PTB_datasetttt,BIDMC_datasett,MIT_datasettt]\n",
        "Final_dataset = pan.concat(conc)\n",
        "col = list(Final_dataset.columns)\n",
        "PTB_datasetttt = PTB_datasetttt.to_numpy()\n",
        "BIDMC_datasett = BIDMC_datasett.to_numpy()\n",
        "MIT_datasettt = MIT_datasettt.to_numpy()\n",
        "dataXXX = np.concatenate((PTB_datasetttt, BIDMC_datasett, MIT_datasettt))\n",
        "Final_datasett = pd.DataFrame(dataXXX,columns=col[0:3])\n",
        "print(Final_datasett)"
      ]
    },
    {
      "cell_type": "markdown",
      "id": "e07d42d6",
      "metadata": {
        "id": "e07d42d6"
      },
      "source": [
        "# Divide dataset into 2 part -> Train and Test"
      ]
    },
    {
      "cell_type": "code",
      "execution_count": null,
      "id": "d5e237a4",
      "metadata": {
        "id": "d5e237a4"
      },
      "outputs": [],
      "source": [
        "X = Final_datasett.iloc[:,:-1]\n",
        "Y=Final_datasett['Heart_disease']\n",
        "Y=Y.astype('category')\n",
        "Y=Y.cat.codes\n",
        "#=====================================================\n",
        "# divide dataset into 2 part -> Train,Test\n",
        "def train_test__split(X, y = None, test_size = 0.4):\n",
        "    train_size=1-test_size\n",
        "    n_samples = X.shape[0]\n",
        "    split_series = np.random.choice(a = [\"train\",\"test\"], p = [train_size, test_size], size = n_samples)\n",
        "    print(f'n_test:{np.sum(split_series==\"test\")}\\nn_train:{np.sum(split_series==\"train\")}')\n",
        "    split_series = pd.Series(split_series)\n",
        "    X_train, X_test = X.iloc[split_series[split_series == \"train\"].index,:], X.iloc[split_series[split_series == \"test\"].index,:]\n",
        "    if not y is None:\n",
        "        y = pd.DataFrame(y,columns=['labels'])\n",
        "        y_train, y_test = y.iloc[split_series[split_series == \"train\"].index,:], y.iloc[split_series[split_series == \"test\"].index,:]\n",
        "        return X_train,X_test,y_train['labels'],y_test['labels']\n",
        "    else:\n",
        "        return X_train,X_test\n",
        "#=====================================================\n",
        "X_train, X_test, y_train, y_test = train_test_split(X,Y)\n"
      ]
    },
    {
      "cell_type": "markdown",
      "id": "826b9bd3",
      "metadata": {
        "id": "826b9bd3"
      },
      "source": [
        "# Initial visualization of data"
      ]
    },
    {
      "cell_type": "code",
      "execution_count": null,
      "id": "1ef48713",
      "metadata": {
        "id": "1ef48713",
        "outputId": "d59dfd2c-d6f4-451a-ac3f-38440965f240"
      },
      "outputs": [
        {
          "data": {
            "image/png": "[encoded data removed]",
            "text/plain": [
              "<Figure size 432x288 with 1 Axes>"
            ]
          },
          "metadata": {
            "needs_background": "light"
          },
          "output_type": "display_data"
        }
      ],
      "source": [
        "#=====================================================\n",
        "# Import required libraries\n",
        "import matplotlib.pyplot as plt\n",
        "import seaborn as sns\n",
        "# Barplot for Class\n",
        "Final_datasett['Heart_disease'].value_counts().plot(kind='bar')\n",
        "plt.gca().set(title='patient Distribution',\n",
        "            ylabel='Count',xlabel='Heart disease or Not ');\n",
        "plt.show()\n",
        "#====================================================="
      ]
    },
    {
      "cell_type": "code",
      "execution_count": null,
      "id": "4e754953",
      "metadata": {
        "id": "4e754953",
        "outputId": "7ce28c64-00b8-46f6-8329-574535677c3b"
      },
      "outputs": [
        {
          "data": {
            "image/png": "[encoded data removed]",
            "text/plain": [
              "<Figure size 576x324 with 1 Axes>"
            ]
          },
          "metadata": {
            "needs_background": "light"
          },
          "output_type": "display_data"
        },
        {
          "name": "stdout",
          "output_type": "stream",
          "text": [
            "Total training samples: 23\n",
            "Total   test   samples: 8\n"
          ]
        },
        {
          "data": {
            "image/png": "[encoded data removed]",
            "text/plain": [
              "<Figure size 720x720 with 4 Axes>"
            ]
          },
          "metadata": {},
          "output_type": "display_data"
        }
      ],
      "source": [
        "#=====================================================\n",
        "from matplotlib import pyplot as plt\n",
        "# scatterplot for pair variables\n",
        "column_names=['ECG1','ECG2']\n",
        "labels=Final_datasett['Heart_disease']\n",
        "labels = labels.astype('category')\n",
        "labels = labels.values\n",
        "ldict={1.0:'r',0.0:\"b\"}\n",
        "length = len(column_names)\n",
        "for i in range(length):\n",
        "    for j in range(i+1,length):\n",
        "        plt.figure(figsize=(8,4.5))\n",
        "        x=Final_datasett[column_names[i]]\n",
        "        y=Final_datasett[column_names[j]]\n",
        "        for l in [1.0,0.0]:\n",
        "            ix = np.where(labels==l)\n",
        "            plt.scatter(x[ix[0]],y[ix[0]],c=ldict[l],label=l,marker='*')\n",
        "            plt.xlabel(column_names[i])\n",
        "            plt.ylabel(column_names[j])\n",
        "        plt.legend()\n",
        "        plt.show()\n",
        "#=====================================================\n",
        "print(f\"Total training samples: {len(X_train)}\")\n",
        "print(f\"Total   test   samples: {len(X_test)}\")\n",
        "sns.set(style=\"white\", palette=\"muted\", color_codes=True)\n",
        "pd.plotting.scatter_matrix(X_train,figsize=(10,10));\n",
        "sc = StandardScaler()\n",
        "X_train = sc.fit_transform(X_train)\n",
        "X_test = sc.transform(X_test)"
      ]
    },
    {
      "cell_type": "markdown",
      "id": "c641ccc0",
      "metadata": {
        "id": "c641ccc0"
      },
      "source": [
        "#Calculate Confusion matrix"
      ]
    },
    {
      "cell_type": "code",
      "execution_count": null,
      "id": "324ea6aa",
      "metadata": {
        "id": "324ea6aa"
      },
      "outputs": [],
      "source": [
        "#=====================================================\n",
        "#calculate Confusion matrix and show function\n",
        "def conf_mtx_plot(confusion_mtx,class_names,color_map='Purples'):\n",
        "  fig=plt.figure(num=None, figsize=(5, 5), dpi=80,facecolor='w', edgecolor='k')\n",
        "  ax = plt.axes()\n",
        "  ax = sns.heatmap(confusion_mtx,ax=ax,annot=True,annot_kws={\"size\": 15},cmap=color_map,xticklabels=class_names,yticklabels=class_names,square=True)\n",
        "  ax.set_title('Confusion Matrix')\n",
        "  ax.set_xlabel('Predicted labes')\n",
        "  ax.set_ylabel('True labes')\n",
        "  plt.yticks(rotation=0)\n",
        "  plt.xticks(rotation=45)\n",
        "  for _, spine in ax.spines.items():\n",
        "    spine.set_visible(True)\n",
        "\n",
        "  plt.savefig('Conf_mtx.png',bbox_inches='tight')\n",
        "  plt.show()\n",
        "\n",
        "from prettytable import PrettyTable as pt\n",
        "def confusion_results(confusion_matrix,class_names=[0]):\n",
        "    FP=confusion_matrix.sum(axis=0)- np.diag(confusion_matrix)\n",
        "    FN=confusion_matrix.sum(axis=1)- np.diag(confusion_matrix)\n",
        "    TP=np.diag(confusion_matrix)\n",
        "    TN=confusion_matrix.sum()-(FP+FN+TP)\n",
        "\n",
        "    support = confusion_matrix.sum(axis=1)\n",
        "    recall   = np.round(TP/(TP+FN),2)\n",
        "    precision= np.round(TP/(TP+FP),2)\n",
        "    accuracy = np.round((TP+TN)/(TP+FP+FN+TN),2)\n",
        "    support = np.reshape(support,(2,1))\n",
        "    recall = np.reshape(recall,(2,1))\n",
        "    precision = np.reshape(precision,(2,1))\n",
        "    f1_score = np.round((2*recall*precision)/(recall+precision),2)\n",
        "    results = pt(['','precision','recall','f1 score','support'])\n",
        "    if len(class_names)<=1:\n",
        "        for i in range(confusion_matrix.shape[0]):\n",
        "            results.add_row([i,f'{precision[i][0]:.2f}',f'{recall[i][0]:.2f}',f'{f1_score[i][0]:.2f}',support[i][0]])\n",
        "    else:\n",
        "        for i in range(confusion_matrix.shape[0]):\n",
        "            results.add_row([class_names[i],f'{precision[i][0]:.2f}',f'{recall[i][0]:.2f}',f'{f1_score[i][0]:.2f}',support[i][0]])\n",
        "    print(results)\n",
        "    print(f'Model accuracy : {np.max(accuracy)*100:.2f} %')\n",
        "#====================================================="
      ]
    },
    {
      "cell_type": "code",
      "execution_count": null,
      "id": "3d91e7e0",
      "metadata": {
        "id": "3d91e7e0",
        "outputId": "4c3763a1-4ae2-4649-ba35-df58ac80e982"
      },
      "outputs": [
        {
          "name": "stdout",
          "output_type": "stream",
          "text": [
            "====================== KNN ======================\n",
            "[[1. 0.]\n",
            " [2. 5.]]\n",
            "+-----+-----------+--------+----------+---------+\n",
            "|     | precision | recall | f1 score | support |\n",
            "+-----+-----------+--------+----------+---------+\n",
            "| 1.0 |    0.33   |  1.00  |   0.50   |   1.0   |\n",
            "| 0.0 |    1.00   |  0.71  |   0.83   |   7.0   |\n",
            "+-----+-----------+--------+----------+---------+\n",
            "Model accuracy : 75.00 %\n"
          ]
        },
        {
          "data": {
            "image/png": "[encoded data removed]",
            "text/plain": [
              "<Figure size 400x400 with 2 Axes>"
            ]
          },
          "metadata": {},
          "output_type": "display_data"
        }
      ],
      "source": [
        "#====================== KNN ======================\n",
        "print(\"====================== KNN ======================\")\n",
        "k_nn = knn(n_neighbors=3,metric='euclidean')\n",
        "k_nn.fit(X_train, y_train)\n",
        "y_pred = k_nn.predict_proba(X_test)[:,1]\n",
        "threshold = 0.2\n",
        "y_pred1 = (k_nn.predict_proba(X_test)[:, 1] > threshold).astype('int')\n",
        "l = []\n",
        "for i in range(len(y_pred1)):\n",
        "    l.append([y_pred1[i]])\n",
        "l = np.array(l)\n",
        "\n",
        "confusion_matrix=np.zeros((2,2))\n",
        "for i in range(l.shape[0]):\n",
        "    confusion_matrix[l[i][0]][y_test.values[i]]+=1\n",
        "print(confusion_matrix)\n",
        "class_name=Final_datasett['Heart_disease'].unique()\n",
        "confusion_results(confusion_matrix,class_name)\n",
        "conf_mtx_plot(confusion_matrix,class_name)"
      ]
    },
    {
      "cell_type": "code",
      "execution_count": null,
      "id": "2a343962",
      "metadata": {
        "id": "2a343962",
        "outputId": "0868392b-fe03-402c-88f2-fcdfddc78c06"
      },
      "outputs": [
        {
          "name": "stdout",
          "output_type": "stream",
          "text": [
            "====================== Support Vector  ======================\n",
            "[[3. 1.]\n",
            " [0. 4.]]\n",
            "+-----+-----------+--------+----------+---------+\n",
            "|     | precision | recall | f1 score | support |\n",
            "+-----+-----------+--------+----------+---------+\n",
            "| 1.0 |    1.00   |  0.75  |   0.86   |   4.0   |\n",
            "| 0.0 |    0.80   |  1.00  |   0.89   |   4.0   |\n",
            "+-----+-----------+--------+----------+---------+\n",
            "Model accuracy : 88.00 %\n"
          ]
        },
        {
          "data": {
            "image/png": "[encoded data removed]",
            "text/plain": [
              "<Figure size 400x400 with 2 Axes>"
            ]
          },
          "metadata": {},
          "output_type": "display_data"
        }
      ],
      "source": [
        "#====================== SVM  ======================\n",
        "print(\"====================== Support Vector  ======================\")\n",
        "SVM = SVC(C = 50, degree = 1, gamma = \"auto\", kernel = \"rbf\", probability = True)\n",
        "SVM.fit(X_train, y_train)\n",
        "y_pred = SVM.predict_proba(X_test)[:,1]\n",
        "threshold = 0.5\n",
        "y_pred1 = (SVM.predict_proba(X_test)[:, 1] > threshold).astype('int')\n",
        "l = []\n",
        "for i in range(len(y_pred1)):\n",
        "    l.append([y_pred1[i]])\n",
        "l = np.array(l)\n",
        "\n",
        "confusion_matrix=np.zeros((2,2))\n",
        "for i in range(l.shape[0]):\n",
        "    confusion_matrix[l[i][0]][y_test.values[i]]+=1\n",
        "print(confusion_matrix)\n",
        "class_name=Final_datasett['Heart_disease'].unique()\n",
        "confusion_results(confusion_matrix,class_name)\n",
        "conf_mtx_plot(confusion_matrix,class_name)"
      ]
    },
    {
      "cell_type": "code",
      "execution_count": null,
      "id": "01d61800",
      "metadata": {
        "id": "01d61800",
        "outputId": "ac5cda23-8dfb-4143-c520-5e22bf84a59d"
      },
      "outputs": [
        {
          "name": "stdout",
          "output_type": "stream",
          "text": [
            "====================== Multi-layer perceptron ======================\n",
            "[[2. 1.]\n",
            " [1. 4.]]\n",
            "+-----+-----------+--------+----------+---------+\n",
            "|     | precision | recall | f1 score | support |\n",
            "+-----+-----------+--------+----------+---------+\n",
            "| 1.0 |    0.67   |  0.67  |   0.67   |   3.0   |\n",
            "| 0.0 |    0.80   |  0.80  |   0.80   |   5.0   |\n",
            "+-----+-----------+--------+----------+---------+\n",
            "Model accuracy : 75.00 %\n"
          ]
        },
        {
          "data": {
            "image/png": "[encoded data removed]",
            "text/plain": [
              "<Figure size 400x400 with 2 Axes>"
            ]
          },
          "metadata": {},
          "output_type": "display_data"
        }
      ],
      "source": [
        "#====================== Multi-layer perceptron (ANN) ======================\n",
        "print(\"====================== Multi-layer perceptron ======================\")\n",
        "MLP = classifier2 = MLPClassifier(activation = \"relu\", alpha = 0.1, hidden_layer_sizes = (10,10,10),\n",
        "                            learning_rate = \"constant\", max_iter = 2000, random_state = 1000)\n",
        "MLP.fit(X_train, y_train)\n",
        "y_pred = MLP.predict_proba(X_test)[:,1]\n",
        "threshold = 0.5\n",
        "y_pred1 = (MLP.predict_proba(X_test)[:, 1] > threshold).astype('int')\n",
        "l = []\n",
        "for i in range(len(y_pred1)):\n",
        "    l.append([y_pred1[i]])\n",
        "l = np.array(l)\n",
        "\n",
        "confusion_matrix=np.zeros((2,2))\n",
        "for i in range(l.shape[0]):\n",
        "    confusion_matrix[l[i][0]][y_test.values[i]]+=1\n",
        "print(confusion_matrix)\n",
        "class_name=Final_datasett['Heart_disease'].unique()\n",
        "confusion_results(confusion_matrix,class_name)\n",
        "conf_mtx_plot(confusion_matrix,class_name)"
      ]
    },
    {
      "cell_type": "code",
      "execution_count": null,
      "id": "ca7663f2",
      "metadata": {
        "id": "ca7663f2",
        "outputId": "e39cb623-fb52-4d97-f29d-fc79346fae9a"
      },
      "outputs": [
        {
          "name": "stdout",
          "output_type": "stream",
          "text": [
            "====================== Random Forest  ======================\n",
            "[[3. 0.]\n",
            " [0. 5.]]\n",
            "+-----+-----------+--------+----------+---------+\n",
            "|     | precision | recall | f1 score | support |\n",
            "+-----+-----------+--------+----------+---------+\n",
            "| 1.0 |    1.00   |  1.00  |   1.00   |   3.0   |\n",
            "| 0.0 |    1.00   |  1.00  |   1.00   |   5.0   |\n",
            "+-----+-----------+--------+----------+---------+\n",
            "Model accuracy : 100.00 %\n"
          ]
        },
        {
          "data": {
            "image/png": "[encoded data removed]",
            "text/plain": [
              "<Figure size 400x400 with 2 Axes>"
            ]
          },
          "metadata": {},
          "output_type": "display_data"
        }
      ],
      "source": [
        "#====================== Random Forest  ======================\n",
        "print(\"====================== Random Forest  ======================\")\n",
        "Random_forest = classifier3 = RandomForestClassifier(n_estimators = 500, criterion = \"gini\", max_depth = 20,\n",
        "                                     max_features = \"auto\", min_samples_leaf = 0.005,\n",
        "                                     min_samples_split = 0.005, n_jobs = -1, random_state = 1000)\n",
        "Random_forest.fit(X_train, y_train)\n",
        "y_pred = Random_forest.predict_proba(X_test)[:,1]\n",
        "threshold = 0.50\n",
        "y_pred1 = (Random_forest.predict_proba(X_test)[:, 1] > threshold).astype('int')\n",
        "l = []\n",
        "for i in range(len(y_pred1)):\n",
        "    l.append([y_pred1[i]])\n",
        "l = np.array(l)\n",
        "\n",
        "confusion_matrix=np.zeros((2,2))\n",
        "for i in range(l.shape[0]):\n",
        "    confusion_matrix[l[i][0]][y_test.values[i]]+=1\n",
        "print(confusion_matrix)\n",
        "class_name=Final_datasett['Heart_disease'].unique()\n",
        "confusion_results(confusion_matrix,class_name)\n",
        "conf_mtx_plot(confusion_matrix,class_name)"
      ]
    },
    {
      "cell_type": "code",
      "execution_count": null,
      "id": "37607df0",
      "metadata": {
        "id": "37607df0",
        "outputId": "013eb282-477f-4b87-e64e-ac4e75458bc5"
      },
      "outputs": [
        {
          "data": {
            "image/png": "[encoded data removed]",
            "text/plain": [
              "<Figure size 432x288 with 1 Axes>"
            ]
          },
          "metadata": {},
          "output_type": "display_data"
        }
      ],
      "source": [
        "#=====================================================\n",
        "# for plot ROC AUC\n",
        "def labelEncoder(labels):\n",
        "    size=len(np.unique(labels))\n",
        "    label=np.unique(labels)\n",
        "    enlabels=dict(list(enumerate(label)))\n",
        "    enlabels={y:x for x,y in enlabels.items()}\n",
        "    coded=[enlabels[i]for i in labels]\n",
        "    return size,label,np.array(coded)\n",
        "\n",
        "from sklearn.metrics import roc_curve, roc_auc_score,plot_roc_curve,plot_confusion_matrix\n",
        "from sklearn.metrics import RocCurveDisplay\n",
        "\n",
        "_,_,y_test_numerical = labelEncoder(y_test)\n",
        "_,_,y_pred_numerical = labelEncoder(y_pred1)\n",
        "\n",
        "for i in range(1):\n",
        "    y_test_bin = np.int32(y_test_numerical==i)\n",
        "    y_pred_bin = np.int32(y_pred_numerical==i)\n",
        "    fpr, tpr, _ = roc_curve(y_test_bin, y_pred_bin)\n",
        "    rocauc=roc_auc_score(y_test_bin,y_pred_bin)\n",
        "    RocCurveDisplay(fpr=fpr, tpr=tpr,roc_auc=rocauc).plot()\n",
        "    plt.title(\"ROC curve for Random Forest\")\n",
        "    plt.plot([0,1],[0,1],'o--')\n",
        "    plt.savefig(f'roc_{class_name[i]}.png',bbox_inches='tight')\n",
        "#====================================================="
      ]
    },
    {
      "cell_type": "code",
      "execution_count": null,
      "id": "c1c6729a",
      "metadata": {
        "id": "c1c6729a",
        "outputId": "9bad73dd-cb56-46c6-96f3-1c4c273a2c0f"
      },
      "outputs": [
        {
          "name": "stdout",
          "output_type": "stream",
          "text": [
            "====================== Decision Tree  ======================\n",
            "[[3. 0.]\n",
            " [0. 5.]]\n",
            "+-----+-----------+--------+----------+---------+\n",
            "|     | precision | recall | f1 score | support |\n",
            "+-----+-----------+--------+----------+---------+\n",
            "| 1.0 |    1.00   |  1.00  |   1.00   |   3.0   |\n",
            "| 0.0 |    1.00   |  1.00  |   1.00   |   5.0   |\n",
            "+-----+-----------+--------+----------+---------+\n",
            "Model accuracy : 100.00 %\n"
          ]
        },
        {
          "data": {
            "image/png": "[encoded data removed]",
            "text/plain": [
              "<Figure size 400x400 with 2 Axes>"
            ]
          },
          "metadata": {},
          "output_type": "display_data"
        }
      ],
      "source": [
        "#====================== Decision Tree  ======================\n",
        "print(\"====================== Decision Tree  ======================\")\n",
        "DT = DecisionTreeClassifier(random_state=1000)\n",
        "DT.fit(X_train, y_train)\n",
        "y_pred = DT.predict_proba(X_test)[:,1]\n",
        "threshold = 0.5\n",
        "y_pred1 = (DT.predict_proba(X_test)[:, 1] > threshold).astype('int')\n",
        "l = []\n",
        "for i in range(len(y_pred1)):\n",
        "    l.append([y_pred1[i]])\n",
        "l = np.array(l)\n",
        "\n",
        "confusion_matrix=np.zeros((2,2))\n",
        "for i in range(l.shape[0]):\n",
        "    confusion_matrix[l[i][0]][y_test.values[i]]+=1\n",
        "print(confusion_matrix)\n",
        "class_name=Final_datasett['Heart_disease'].unique()\n",
        "confusion_results(confusion_matrix,class_name)\n",
        "conf_mtx_plot(confusion_matrix,class_name)"
      ]
    }
  ],
  "metadata": {
    "kernelspec": {
      "display_name": "Python 3 (ipykernel)",
      "language": "python",
      "name": "python3"
    },
    "language_info": {
      "codemirror_mode": {
        "name": "ipython",
        "version": 3
      },
      "file_extension": ".py",
      "mimetype": "text/x-python",
      "name": "python",
      "nbconvert_exporter": "python",
      "pygments_lexer": "ipython3",
      "version": "3.7.0"
    },
    "colab": {
      "provenance": []
    }
  },
  "nbformat": 4,
  "nbformat_minor": 5
}